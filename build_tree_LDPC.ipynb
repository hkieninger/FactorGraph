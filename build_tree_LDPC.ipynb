{
 "cells": [
  {
   "cell_type": "markdown",
   "metadata": {},
   "source": [
    "# Tree LDPC Code\n",
    "This Notebook serves to generate a LDPC Code without cycles. <br>\n",
    "One specifies n, m, $d_{c,max}$ and $d_{v,max}$."
   ]
  },
  {
   "cell_type": "code",
   "execution_count": 1,
   "metadata": {},
   "outputs": [],
   "source": [
    "import numpy as np\n",
    "from collections import deque\n",
    "import galois"
   ]
  },
  {
   "cell_type": "code",
   "execution_count": 2,
   "metadata": {},
   "outputs": [],
   "source": [
    "dc_max = 5\n",
    "dv_max = 5\n",
    "n = 64\n",
    "m = 32"
   ]
  },
  {
   "cell_type": "markdown",
   "metadata": {},
   "source": [
    "### Tree\n",
    "V = {vertices}, E = {edges}, S = {sockets} <br>\n",
    "|E| = |V| - 1 <br>\n",
    "|S| = 2 |E| <br>\n",
    "<br>\n",
    "### Bipartite Graph\n",
    "|E| sockets for variable nodes + |E| sockets for check nodes"
   ]
  },
  {
   "cell_type": "code",
   "execution_count": 3,
   "metadata": {},
   "outputs": [],
   "source": [
    "def randomNodeDegrees(node_cnt, socket_cnt, d_max):\n",
    "    '''\n",
    "    radomly distributes sockets on nodes\n",
    "    returns an sorted array with random degrees for @node_cnt nodes such that the degrees sumup to @socket_cnt\n",
    "    while ensuring that: 1 <= degree <= d_max\n",
    "    '''\n",
    "    degrees = np.empty(node_cnt, dtype=int)\n",
    "    available_sockets = socket_cnt\n",
    "    for node_idx in range(node_cnt):\n",
    "        min_degree = max(1, available_sockets - (node_cnt - node_idx - 1) * d_max)\n",
    "        max_degree = min(d_max, available_sockets - (node_cnt - node_idx - 1))\n",
    "        degrees[node_idx] = np.random.randint(min_degree, max_degree + 1, dtype=int)\n",
    "        available_sockets -= degrees[node_idx]\n",
    "    return np.sort(degrees)[::-1]"
   ]
  },
  {
   "cell_type": "code",
   "execution_count": 4,
   "metadata": {},
   "outputs": [],
   "source": [
    "E = n + m - 1\n",
    "varnode_sockets = randomNodeDegrees(n, E, dv_max)\n",
    "checknode_sockets = randomNodeDegrees(m, E, dc_max)\n",
    "\n",
    "# bfs to populate H, ascending sorted arrays ensure minimal depth\n",
    "H = np.zeros((m, n), dtype=np.int8)\n",
    "q = deque()\n",
    "q.append(0) # add root node\n",
    "varnode_cnt = 1\n",
    "checknode_cnt = 0\n",
    "while len(q) > 0:\n",
    "    varnode_idx = q[0]\n",
    "    q.popleft()\n",
    "    for checknode in range(varnode_sockets[varnode_idx] - (0 if varnode_idx == 0 else 1)): # account for parent in case of non-root nodes\n",
    "        checknode_idx = checknode_cnt + checknode\n",
    "        H[checknode_idx,varnode_idx] = 1\n",
    "        q.extend(range(varnode_cnt, varnode_cnt + checknode_sockets[checknode_idx] - 1))\n",
    "        H[checknode_idx,varnode_cnt:varnode_cnt + checknode_sockets[checknode_idx] - 1] = 1\n",
    "        varnode_cnt += checknode_sockets[checknode_idx] - 1\n",
    "    checknode_cnt += varnode_sockets[varnode_idx] - (0 if varnode_idx == 0 else 1) # account for parent in case of non-root nodes\n"
   ]
  },
  {
   "cell_type": "code",
   "execution_count": null,
   "metadata": {},
   "outputs": [],
   "source": [
    "# remove linear independent rows -> this modifies n and m"
   ]
  },
  {
   "cell_type": "code",
   "execution_count": 5,
   "metadata": {},
   "outputs": [
    {
     "name": "stdout",
     "output_type": "stream",
     "text": [
      "[[1 1 1 ... 0 0 0]\n",
      " [1 0 0 ... 0 0 0]\n",
      " [1 0 0 ... 0 0 0]\n",
      " ...\n",
      " [0 0 0 ... 0 0 0]\n",
      " [0 0 0 ... 0 0 0]\n",
      " [0 0 0 ... 0 0 0]]\n"
     ]
    }
   ],
   "source": [
    "print(H)\n",
    "np.save('codes/random_acyclic_LDPC', H)"
   ]
  },
  {
   "cell_type": "code",
   "execution_count": 6,
   "metadata": {},
   "outputs": [
    {
     "data": {
      "text/plain": [
       "True"
      ]
     },
     "execution_count": 6,
     "metadata": {},
     "output_type": "execute_result"
    }
   ],
   "source": [
    "H_load = np.load('codes/random_acyclic_LDPC.npy')\n",
    "np.all(H == H_load)"
   ]
  },
  {
   "cell_type": "code",
   "execution_count": 7,
   "metadata": {},
   "outputs": [],
   "source": [
    "def max(H):\n",
    "    # implementiere BFS oder DFS aus Informatik Olympiade\n",
    "    pass"
   ]
  }
 ],
 "metadata": {
  "kernelspec": {
   "display_name": "Python 3",
   "language": "python",
   "name": "python3"
  },
  "language_info": {
   "codemirror_mode": {
    "name": "ipython",
    "version": 3
   },
   "file_extension": ".py",
   "mimetype": "text/x-python",
   "name": "python",
   "nbconvert_exporter": "python",
   "pygments_lexer": "ipython3",
   "version": "3.10.12"
  }
 },
 "nbformat": 4,
 "nbformat_minor": 2
}
